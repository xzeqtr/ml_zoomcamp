{
 "cells": [
  {
   "cell_type": "code",
   "execution_count": 13,
   "id": "28d23d2b-92b2-4d6e-a860-cb0a7f800c08",
   "metadata": {},
   "outputs": [
    {
     "name": "stdout",
     "output_type": "stream",
     "text": [
      "--2025-10-06 18:10:44--  https://raw.githubusercontent.com/alexeygrigorev/datasets/master/car_fuel_efficiency.csv\n",
      "Resolving raw.githubusercontent.com (raw.githubusercontent.com)... 185.199.109.133, 185.199.110.133, 185.199.111.133, ...\n",
      "Connecting to raw.githubusercontent.com (raw.githubusercontent.com)|185.199.109.133|:443... connected.\n",
      "HTTP request sent, awaiting response... 200 OK\n",
      "Length: 874188 (854K) [text/plain]\n",
      "Saving to: ‘car_fuel_efficiency.csv’\n",
      "\n",
      "car_fuel_efficiency 100%[===================>] 853.70K  --.-KB/s    in 0.009s  \n",
      "\n",
      "2025-10-06 18:10:44 (90.2 MB/s) - ‘car_fuel_efficiency.csv’ saved [874188/874188]\n",
      "\n"
     ]
    }
   ],
   "source": [
    "!wget https://raw.githubusercontent.com/alexeygrigorev/datasets/master/car_fuel_efficiency.csv"
   ]
  },
  {
   "cell_type": "code",
   "execution_count": 59,
   "id": "52fb9199-489d-402f-815b-4c0f74dc41ee",
   "metadata": {},
   "outputs": [],
   "source": [
    "import pandas as pd\n",
    "\n",
    "df_raw = pd.read_csv('car_fuel_efficiency.csv')\n",
    "df_filtered = df_raw[[\n",
    "    'engine_displacement',\n",
    "    'horsepower',\n",
    "    'vehicle_weight',\n",
    "    'model_year',\n",
    "    'fuel_efficiency_mpg'\n",
    "]].copy()"
   ]
  },
  {
   "cell_type": "code",
   "execution_count": 60,
   "id": "efbcccb4-c8f0-4880-8bfa-2f2ddfafe74e",
   "metadata": {},
   "outputs": [
    {
     "data": {
      "text/plain": [
       "(9704, 5)"
      ]
     },
     "execution_count": 60,
     "metadata": {},
     "output_type": "execute_result"
    }
   ],
   "source": [
    "df_filtered.shape"
   ]
  },
  {
   "cell_type": "code",
   "execution_count": 61,
   "id": "7dcceaa4-da4f-462c-9c83-56f79b363cd8",
   "metadata": {},
   "outputs": [
    {
     "data": {
      "image/png": "[encoded data removed]",
      "text/plain": [
       "<Figure size 640x480 with 1 Axes>"
      ]
     },
     "metadata": {},
     "output_type": "display_data"
    }
   ],
   "source": [
    "# Look at the fuel_efficiency_mpg variable. Does it have a long tail?   - No\n",
    "import matplotlib.pyplot as plt\n",
    "import seaborn as sns\n",
    "\n",
    "sns.histplot(df_filtered['fuel_efficiency_mpg'], kde=False)\n",
    "plt.show()"
   ]
  },
  {
   "cell_type": "code",
   "execution_count": 62,
   "id": "a75d8a23-d53e-4b41-99be-ad5b0c5773e4",
   "metadata": {},
   "outputs": [
    {
     "name": "stdout",
     "output_type": "stream",
     "text": [
      "Question 1. Missing values: horsepower\n"
     ]
    }
   ],
   "source": [
    "columns_with_missing = df_filtered.columns[df_filtered.isnull().any()].tolist()\n",
    "print('Question 1. Missing values:', *columns_with_missing)"
   ]
  },
  {
   "cell_type": "code",
   "execution_count": 63,
   "id": "70cca776-c73d-49fe-bad6-57d6829a4d5d",
   "metadata": {},
   "outputs": [
    {
     "name": "stdout",
     "output_type": "stream",
     "text": [
      "Question 2. Median for horse power: 149.0\n"
     ]
    }
   ],
   "source": [
    "median_hp = df_filtered['horsepower'].median()\n",
    "print(f'Question 2. Median for horse power: {median_hp}')"
   ]
  },
  {
   "cell_type": "code",
   "execution_count": 64,
   "id": "c4756edc-c5de-4d0f-98d2-136c5b4c72e4",
   "metadata": {},
   "outputs": [
    {
     "name": "stdout",
     "output_type": "stream",
     "text": [
      "Original dataset size: 9704\n",
      "Training set size: 5822 (60.0%)\n",
      "Validation set size: 1941 (20.0%)\n",
      "Test set size: 1941 (20.0%)\n"
     ]
    }
   ],
   "source": [
    "from sklearn.model_selection import train_test_split\n",
    "\n",
    "# Shuffle the dataset (the filtered one you created above), use seed 42\n",
    "df_shuffled = df_filtered.sample(frac=1, random_state=42).reset_index(drop=True)\n",
    "df_shuffled.reset_index(drop=True, inplace=True)\n",
    "\n",
    "# Split your data in train/val/test sets, with 60%/20%/20% distribution.\n",
    "\n",
    "# Split into train/val/test (60%/20%/20%)\n",
    "df_train, df_temp = train_test_split(df, test_size=0.4, random_state=42)\n",
    "df_val, df_test = train_test_split(df_temp, test_size=0.5, random_state=42)\n",
    "\n",
    "# Reset indices\n",
    "df_train = df_train.reset_index(drop=True)\n",
    "df_val = df_val.reset_index(drop=True)\n",
    "df_test = df_test.reset_index(drop=True)\n",
    "\n",
    "# Verify\n",
    "print(f\"Original dataset size: {len(df_filtered)}\")\n",
    "print(f\"Training set size: {len(df_train)} ({len(df_train)/len(df_filtered)*100:.1f}%)\")\n",
    "print(f\"Validation set size: {len(df_val)} ({len(df_val)/len(df_filtered)*100:.1f}%)\")\n",
    "print(f\"Test set size: {len(df_test)} ({len(df_test)/len(df_filtered)*100:.1f}%)\")"
   ]
  },
  {
   "cell_type": "code",
   "execution_count": 65,
   "id": "b55ba365-d49e-4f56-81dd-2072b625ec1a",
   "metadata": {},
   "outputs": [
    {
     "name": "stdout",
     "output_type": "stream",
     "text": [
      "RMSE with horsepower filled with 0: 0.51\n",
      "RMSE with horsepower filled with mean: 0.46\n",
      "Question 3. Filling NAs:\n",
      "Filling with mean gives better RMSE\n"
     ]
    }
   ],
   "source": [
    "import numpy as np\n",
    "from sklearn.linear_model import LinearRegression\n",
    "from sklearn.metrics import mean_squared_error\n",
    "import math\n",
    "\n",
    "feature_columns = ['engine_displacement', 'vehicle_weight', 'model_year', 'horsepower']\n",
    "target_column = 'fuel_efficiency_mpg'\n",
    "\n",
    "# OPTION 1: Fill missing horsepower values with 0\n",
    "train_df_fill0 = train_df.copy()\n",
    "val_df_fill0 = val_df.copy()\n",
    "\n",
    "# Fill missing values in training set with 0\n",
    "train_df_fill0['horsepower'] = train_df_fill0['horsepower'].fillna(0)\n",
    "# Fill missing values in validation set with 0\n",
    "val_df_fill0['horsepower'] = val_df_fill0['horsepower'].fillna(0)\n",
    "\n",
    "# Prepare features and target for training\n",
    "X_train_fill0 = train_df_fill0[feature_columns]\n",
    "y_train_fill0 = train_df_fill0[target_column]\n",
    "\n",
    "X_val_fill0 = val_df_fill0[feature_columns]\n",
    "y_val_fill0 = val_df_fill0[target_column]\n",
    "\n",
    "# Train linear regression model\n",
    "model_fill0 = LinearRegression()\n",
    "model_fill0.fit(X_train_fill0, y_train_fill0)\n",
    "\n",
    "# Make predictions and calculate RMSE\n",
    "y_pred_fill0 = model_fill0.predict(X_val_fill0)\n",
    "rmse_fill0 = math.sqrt(mean_squared_error(y_val_fill0, y_pred_fill0))\n",
    "rmse_fill0 = round(rmse_fill0, 2)\n",
    "\n",
    "print(f\"RMSE with horsepower filled with 0: {rmse_fill0}\")\n",
    "\n",
    "# OPTION 2: Fill missing horsepower values with mean (For computing the mean, use the training only!)\n",
    "train_df_fillmean = train_df.copy()\n",
    "val_df_fillmean = val_df.copy()\n",
    "\n",
    "# Calculate mean from training set only\n",
    "horsepower_mean = train_df_fillmean['horsepower'].mean()\n",
    "\n",
    "# Fill missing values in training set with mean\n",
    "train_df_fillmean['horsepower'] = train_df_fillmean['horsepower'].fillna(horsepower_mean)\n",
    "# Fill missing values in validation set with the same mean\n",
    "val_df_fillmean['horsepower'] = val_df_fillmean['horsepower'].fillna(horsepower_mean)\n",
    "\n",
    "# Prepare features and target for training\n",
    "X_train_fillmean = train_df_fillmean[feature_columns]\n",
    "y_train_fillmean = train_df_fillmean[target_column]\n",
    "\n",
    "X_val_fillmean = val_df_fillmean[feature_columns]\n",
    "y_val_fillmean = val_df_fillmean[target_column]\n",
    "\n",
    "# Train linear regression model\n",
    "model_fillmean = LinearRegression()\n",
    "model_fillmean.fit(X_train_fillmean, y_train_fillmean)\n",
    "\n",
    "# Make predictions and calculate RMSE\n",
    "y_pred_fillmean = model_fillmean.predict(X_val_fillmean)\n",
    "rmse_fillmean = math.sqrt(mean_squared_error(y_val_fillmean, y_pred_fillmean))\n",
    "rmse_fillmean = round(rmse_fillmean, 2)\n",
    "\n",
    "print(f\"RMSE with horsepower filled with mean: {rmse_fillmean}\")\n",
    "\n",
    "print('Question 3. Filling NAs:')\n",
    "if rmse_fill0 < rmse_fillmean:\n",
    "    print(\"Filling with 0 gives better RMSE\")\n",
    "else:\n",
    "    print(\"Filling with mean gives better RMSE\")"
   ]
  },
  {
   "cell_type": "code",
   "execution_count": 68,
   "id": "1433e113-84ad-4438-8914-61e5733bf984",
   "metadata": {},
   "outputs": [
    {
     "name": "stdout",
     "output_type": "stream",
     "text": [
      "Question 4. Best regularization:\n",
      "r = 0: RMSE = 0.52\n",
      "r = 0.01: RMSE = 0.52\n",
      "r = 0.1: RMSE = 0.52\n",
      "r = 1: RMSE = 0.52\n",
      "r = 5: RMSE = 0.52\n",
      "r = 10: RMSE = 0.52\n",
      "r = 100: RMSE = 0.52\n"
     ]
    }
   ],
   "source": [
    "\n",
    "\n",
    "\n",
    "# ===========================\n",
    "# QUESTION 4\n",
    "# ===========================\n",
    "\n",
    "# Fill missing values with 0 (as instructed)\n",
    "df_train_q4 = df_train.fillna(0)\n",
    "df_val_q4 = df_val.fillna(0)\n",
    "\n",
    "X_train_q4 = df_train_q4[['engine_displacement', 'horsepower', 'vehicle_weight', 'model_year']].values\n",
    "y_train_q4 = df_train_q4['fuel_efficiency_mpg'].values\n",
    "\n",
    "X_val_q4 = df_val_q4[['engine_displacement', 'horsepower', 'vehicle_weight', 'model_year']].values\n",
    "y_val_q4 = df_val_q4['fuel_efficiency_mpg'].values\n",
    "\n",
    "r_values = [0, 0.01, 0.1, 1, 5, 10, 100]\n",
    "rmse_dict = {}\n",
    "\n",
    "for r in r_values:\n",
    "    model = Ridge(alpha=r, solver='cholesky')  # ensures consistent results\n",
    "    model.fit(X_train_q4, y_train_q4)\n",
    "    y_pred = model.predict(X_val_q4)\n",
    "    rmse = np.sqrt(mean_squared_error(y_val_q4, y_pred))\n",
    "    rmse_dict[r] = round(rmse, 2)\n",
    "\n",
    "print(\"Question 4. Best regularization:\")\n",
    "for r, rmse in rmse_dict.items():\n",
    "    print(f\"r = {r}: RMSE = {rmse}\")\n"
   ]
  },
  {
   "cell_type": "code",
   "execution_count": 79,
   "id": "6c774284-35cc-46f4-a8e3-4950cdd0b1fb",
   "metadata": {},
   "outputs": [
    {
     "name": "stdout",
     "output_type": "stream",
     "text": [
      "Question 5. RMSE Standard Deviation: 0.0065\n"
     ]
    }
   ],
   "source": [
    "df = pd.read_csv('car_fuel_efficiency.csv')\n",
    "columns = ['engine_displacement', 'horsepower', 'vehicle_weight', 'model_year', 'fuel_efficiency_mpg']\n",
    "df = df[columns].copy()\n",
    "\n",
    "seeds = [0, 1, 2, 3, 4, 5, 6, 7, 8, 9]\n",
    "rmse_scores = []\n",
    "\n",
    "for seed in seeds:\n",
    "    # For each seed, do the train/validation/test split with 60%/20%/20% distribution.\n",
    "    df_shuffled = df.sample(frac=1, random_state=seed).reset_index(drop=True)\n",
    "    df_train, df_temp = train_test_split(df_shuffled, test_size=0.4, random_state=seed)\n",
    "    df_val, df_test = train_test_split(df_temp, test_size=0.5, random_state=seed)\n",
    "\n",
    "    #Fill the missing values with 0 and train a model without regularization.\n",
    "    df_train = df_train.reset_index(drop=True)\n",
    "    df_val = df_val.reset_index(drop=True)\n",
    "    df_train_filled = df_train.fillna(0)\n",
    "    df_val_filled = df_val.fillna(0)\n",
    "    \n",
    "    X_train = df_train_filled[['engine_displacement', 'horsepower', 'vehicle_weight', 'model_year']].values\n",
    "    y_train = df_train_filled['fuel_efficiency_mpg'].values\n",
    "    \n",
    "    X_val = df_val_filled[['engine_displacement', 'horsepower', 'vehicle_weight', 'model_year']].values\n",
    "    y_val = df_val_filled['fuel_efficiency_mpg'].values\n",
    "    \n",
    "    # train a model without regularization\n",
    "    model = LinearRegression()\n",
    "    model.fit(X_train, y_train)\n",
    "    \n",
    "    # For each seed, evaluate the model on the validation dataset and collect the RMSE scores.\n",
    "    y_pred = model.predict(X_val)\n",
    "    rmse = np.sqrt(mean_squared_error(y_val, y_pred))\n",
    "    rmse_scores.append(rmse)\n",
    "\n",
    "# What's the standard deviation of all the scores? To compute the standard deviation, use np.std.\n",
    "std_dev = np.std(rmse_scores)\n",
    "std_dev_rounded = round(std_dev, 5)\n",
    "print(f\"Question 5. RMSE Standard Deviation: {std_dev_rounded}\")"
   ]
  },
  {
   "cell_type": "code",
   "execution_count": 83,
   "id": "130a67ed-3181-431e-a420-b40892fd4026",
   "metadata": {},
   "outputs": [
    {
     "name": "stdout",
     "output_type": "stream",
     "text": [
      "Question 6. Evaluation on test: 0.532\n"
     ]
    }
   ],
   "source": [
    "df = pd.read_csv('car_fuel_efficiency.csv')\n",
    "columns = ['engine_displacement', 'horsepower', 'vehicle_weight', 'model_year', 'fuel_efficiency_mpg']\n",
    "df = df[columns].copy()\n",
    "\n",
    "seed = 9\n",
    "df_shuffled = df.sample(frac=1, random_state=seed).reset_index(drop=True)\n",
    "\n",
    "# Split into train/val/test (60%/20%/20%)\n",
    "df_train, df_temp = train_test_split(df_shuffled, test_size=0.4, random_state=seed)\n",
    "df_val, df_test = train_test_split(df_temp, test_size=0.5, random_state=seed)\n",
    "\n",
    "# Combine train and validation datasets.\n",
    "df_train_full = pd.concat([df_train, df_val]).reset_index(drop=True)\n",
    "\n",
    "# Fill missing values with 0\n",
    "df_train_full_filled = df_train_full.fillna(0)\n",
    "df_test_filled = df_test.fillna(0)\n",
    "\n",
    "X_train = df_train_full_filled[['engine_displacement', 'horsepower', 'vehicle_weight', 'model_year']].values\n",
    "y_train = df_train_full_filled['fuel_efficiency_mpg'].values\n",
    "\n",
    "X_test = df_test_filled[['engine_displacement', 'horsepower', 'vehicle_weight', 'model_year']].values\n",
    "y_test = df_test_filled['fuel_efficiency_mpg'].values\n",
    "\n",
    "# Train model with r=0.001\n",
    "model = Ridge(alpha=0.001, solver='cholesky')\n",
    "model.fit(X_train, y_train)\n",
    "\n",
    "y_pred = model.predict(X_test)\n",
    "rmse = np.sqrt(mean_squared_error(y_test, y_pred))\n",
    "rmse_rounded = round(rmse, 3)\n",
    "print(f\"Question 6. Evaluation on test: {rmse_rounded}\")"
   ]
  },
  {
   "cell_type": "code",
   "execution_count": null,
   "id": "3fe18fc3-e5d9-464a-9100-50a94c001099",
   "metadata": {},
   "outputs": [],
   "source": []
  }
 ],
 "metadata": {
  "kernelspec": {
   "display_name": "Python 3 (ipykernel)",
   "language": "python",
   "name": "python3"
  },
  "language_info": {
   "codemirror_mode": {
    "name": "ipython",
    "version": 3
   },
   "file_extension": ".py",
   "mimetype": "text/x-python",
   "name": "python",
   "nbconvert_exporter": "python",
   "pygments_lexer": "ipython3",
   "version": "3.12.1"
  }
 },
 "nbformat": 4,
 "nbformat_minor": 5
}
